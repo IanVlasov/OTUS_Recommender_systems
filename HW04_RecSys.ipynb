{
 "cells": [
  {
   "cell_type": "code",
   "execution_count": 1,
   "metadata": {},
   "outputs": [],
   "source": [
    "import os\n",
    "import copy\n",
    "\n",
    "import numpy as np\n",
    "import pandas as pd\n",
    "\n",
    "import matplotlib.pyplot as plt\n",
    "\n",
    "from sklearn.preprocessing import LabelEncoder\n",
    "from sklearn.metrics import mean_squared_error\n",
    "from tqdm.notebook import tqdm\n",
    "\n",
    "from tqdm.notebook import tqdm\n",
    "tqdm.pandas()"
   ]
  },
  {
   "cell_type": "markdown",
   "metadata": {
    "pycharm": {
     "name": "#%% md\n"
    }
   },
   "source": [
    "## EDA\n",
    "\n",
    "Для построения рекомендательной системы был выбран \"small\" датасет с сайта https://nijianmo.github.io/amazon/index.html **\"Video Games\"**."
   ]
  },
  {
   "cell_type": "code",
   "execution_count": 2,
   "metadata": {
    "pycharm": {
     "name": "#%%\n"
    }
   },
   "outputs": [],
   "source": [
    "DATA_PATH = os.path.join(\".\", \"data\", \"Video_Games.csv\")"
   ]
  },
  {
   "cell_type": "code",
   "execution_count": 3,
   "metadata": {
    "pycharm": {
     "name": "#%%\n"
    }
   },
   "outputs": [],
   "source": [
    "input_data = pd.read_csv(DATA_PATH, header=None, names=[\"item\", \"user\", \"rating\", \"date\"])"
   ]
  },
  {
   "cell_type": "code",
   "execution_count": 4,
   "metadata": {
    "pycharm": {
     "name": "#%%\n"
    }
   },
   "outputs": [
    {
     "data": {
      "text/html": [
       "<div>\n",
       "<style scoped>\n",
       "    .dataframe tbody tr th:only-of-type {\n",
       "        vertical-align: middle;\n",
       "    }\n",
       "\n",
       "    .dataframe tbody tr th {\n",
       "        vertical-align: top;\n",
       "    }\n",
       "\n",
       "    .dataframe thead th {\n",
       "        text-align: right;\n",
       "    }\n",
       "</style>\n",
       "<table border=\"1\" class=\"dataframe\">\n",
       "  <thead>\n",
       "    <tr style=\"text-align: right;\">\n",
       "      <th></th>\n",
       "      <th>item</th>\n",
       "      <th>user</th>\n",
       "      <th>rating</th>\n",
       "      <th>date</th>\n",
       "    </tr>\n",
       "  </thead>\n",
       "  <tbody>\n",
       "    <tr>\n",
       "      <th>0</th>\n",
       "      <td>0439381673</td>\n",
       "      <td>A21ROB4YDOZA5P</td>\n",
       "      <td>1.0</td>\n",
       "      <td>1402272000</td>\n",
       "    </tr>\n",
       "    <tr>\n",
       "      <th>1</th>\n",
       "      <td>0439381673</td>\n",
       "      <td>A3TNZ2Q5E7HTHD</td>\n",
       "      <td>3.0</td>\n",
       "      <td>1399680000</td>\n",
       "    </tr>\n",
       "    <tr>\n",
       "      <th>2</th>\n",
       "      <td>0439381673</td>\n",
       "      <td>A1OKRM3QFEATQO</td>\n",
       "      <td>4.0</td>\n",
       "      <td>1391731200</td>\n",
       "    </tr>\n",
       "    <tr>\n",
       "      <th>3</th>\n",
       "      <td>0439381673</td>\n",
       "      <td>A2XO1JFCNEYV3T</td>\n",
       "      <td>1.0</td>\n",
       "      <td>1391731200</td>\n",
       "    </tr>\n",
       "    <tr>\n",
       "      <th>4</th>\n",
       "      <td>0439381673</td>\n",
       "      <td>A19WLPIRHD15TH</td>\n",
       "      <td>4.0</td>\n",
       "      <td>1389830400</td>\n",
       "    </tr>\n",
       "  </tbody>\n",
       "</table>\n",
       "</div>"
      ],
      "text/plain": [
       "         item            user  rating        date\n",
       "0  0439381673  A21ROB4YDOZA5P     1.0  1402272000\n",
       "1  0439381673  A3TNZ2Q5E7HTHD     3.0  1399680000\n",
       "2  0439381673  A1OKRM3QFEATQO     4.0  1391731200\n",
       "3  0439381673  A2XO1JFCNEYV3T     1.0  1391731200\n",
       "4  0439381673  A19WLPIRHD15TH     4.0  1389830400"
      ]
     },
     "execution_count": 4,
     "metadata": {},
     "output_type": "execute_result"
    }
   ],
   "source": [
    "input_data.head()"
   ]
  },
  {
   "cell_type": "code",
   "execution_count": 5,
   "metadata": {
    "pycharm": {
     "name": "#%%\n"
    }
   },
   "outputs": [
    {
     "name": "stdout",
     "output_type": "stream",
     "text": [
      "<class 'pandas.core.frame.DataFrame'>\n",
      "RangeIndex: 2565349 entries, 0 to 2565348\n",
      "Data columns (total 4 columns):\n",
      " #   Column  Dtype  \n",
      "---  ------  -----  \n",
      " 0   item    object \n",
      " 1   user    object \n",
      " 2   rating  float64\n",
      " 3   date    int64  \n",
      "dtypes: float64(1), int64(1), object(2)\n",
      "memory usage: 78.3+ MB\n"
     ]
    }
   ],
   "source": [
    "input_data.info()"
   ]
  },
  {
   "cell_type": "markdown",
   "metadata": {
    "pycharm": {
     "name": "#%% md\n"
    }
   },
   "source": [
    "Для ускорения работы, переведем колонки 'user' и 'item' в числовой формат"
   ]
  },
  {
   "cell_type": "code",
   "execution_count": 6,
   "metadata": {
    "pycharm": {
     "name": "#%%\n"
    }
   },
   "outputs": [],
   "source": [
    "def encode_users_and_items(data, user_col='user', item_col='item'):\n",
    "    data = copy.copy(data)\n",
    "    user_encoder = LabelEncoder()\n",
    "    item_encoder = LabelEncoder()\n",
    "\n",
    "    data[user_col] = user_encoder.fit_transform(data[user_col])\n",
    "    data[item_col] = item_encoder.fit_transform(data[item_col])\n",
    "\n",
    "    return data, item_encoder, user_encoder"
   ]
  },
  {
   "cell_type": "code",
   "execution_count": 7,
   "metadata": {
    "pycharm": {
     "name": "#%%\n"
    }
   },
   "outputs": [],
   "source": [
    "data, item_encoder, user_encoder = encode_users_and_items(input_data)"
   ]
  },
  {
   "cell_type": "code",
   "execution_count": 8,
   "metadata": {
    "pycharm": {
     "name": "#%%\n"
    }
   },
   "outputs": [],
   "source": [
    "from IPython.display import display\n",
    "\n",
    "def print_statistics(data):\n",
    "    display(data['rating'].describe())\n",
    "    print(\"*\" * 50)\n",
    "\n",
    "    print(f'Размер: {data.shape}')\n",
    "    print(\"*\" * 50)\n",
    "\n",
    "    print('Пропущенные значения:')\n",
    "    display(data.isna().sum())\n",
    "    print(\"*\" * 50)\n",
    "\n",
    "    unique_items = data['item'].nunique()\n",
    "    unique_users = data['user'].nunique()\n",
    "    print(f\"Количество уникальных товаров: {unique_items} ({unique_items / data.shape[0] * 100:.2f}%)\")\n",
    "    print(f\"Количество уникальных юзеров: {unique_users} ({unique_users / data.shape[0] * 100:.2f}%)\")\n",
    "    print(\"*\" * 50)\n",
    "\n",
    "    (data['rating'].value_counts() / data.shape[0])\\\n",
    "        .plot(kind='bar', title=\"Ratings distribution\", xlabel='Rating', ylabel='Percentage')\n",
    "    plt.grid()\n",
    "    plt.show()\n",
    "    print(\"*\" * 50)\n",
    "\n",
    "    print('Сколько оценок ставят пользователи:')\n",
    "    display(data.groupby('user').agg('count')['rating'].describe())\n",
    "    print(\"*\" * 50)\n",
    "\n",
    "    print('Сколько оценок получает каждая игра:')\n",
    "    display(data.groupby('item').agg('count')['rating'].describe())\n",
    "    print(\"*\" * 50)"
   ]
  },
  {
   "cell_type": "code",
   "execution_count": 9,
   "metadata": {
    "pycharm": {
     "name": "#%%\n"
    }
   },
   "outputs": [
    {
     "data": {
      "text/plain": [
       "count    2.565349e+06\n",
       "mean     4.022095e+00\n",
       "std      1.405936e+00\n",
       "min      1.000000e+00\n",
       "25%      3.000000e+00\n",
       "50%      5.000000e+00\n",
       "75%      5.000000e+00\n",
       "max      5.000000e+00\n",
       "Name: rating, dtype: float64"
      ]
     },
     "metadata": {},
     "output_type": "display_data"
    },
    {
     "name": "stdout",
     "output_type": "stream",
     "text": [
      "**************************************************\n",
      "Размер: (2565349, 4)\n",
      "**************************************************\n",
      "Пропущенные значения:\n"
     ]
    },
    {
     "data": {
      "text/plain": [
       "item      0\n",
       "user      0\n",
       "rating    0\n",
       "date      0\n",
       "dtype: int64"
      ]
     },
     "metadata": {},
     "output_type": "display_data"
    },
    {
     "name": "stdout",
     "output_type": "stream",
     "text": [
      "**************************************************\n",
      "Количество уникальных товаров: 71982 (2.81%)\n",
      "Количество уникальных юзеров: 1540618 (60.05%)\n",
      "**************************************************\n"
     ]
    },
    {
     "data": {
      "image/png": "[encoded data removed]",
      "text/plain": [
       "<Figure size 432x288 with 1 Axes>"
      ]
     },
     "metadata": {
      "needs_background": "light"
     },
     "output_type": "display_data"
    },
    {
     "name": "stdout",
     "output_type": "stream",
     "text": [
      "**************************************************\n",
      "Сколько оценок ставят пользователи:\n"
     ]
    },
    {
     "data": {
      "text/plain": [
       "count    1.540618e+06\n",
       "mean     1.665143e+00\n",
       "std      2.892944e+00\n",
       "min      1.000000e+00\n",
       "25%      1.000000e+00\n",
       "50%      1.000000e+00\n",
       "75%      2.000000e+00\n",
       "max      8.880000e+02\n",
       "Name: rating, dtype: float64"
      ]
     },
     "metadata": {},
     "output_type": "display_data"
    },
    {
     "name": "stdout",
     "output_type": "stream",
     "text": [
      "**************************************************\n",
      "Сколько оценок получает каждая игра:\n"
     ]
    },
    {
     "data": {
      "text/plain": [
       "count    71982.000000\n",
       "mean        35.638757\n",
       "std        140.211198\n",
       "min          1.000000\n",
       "25%          2.000000\n",
       "50%          5.000000\n",
       "75%         19.000000\n",
       "max       7630.000000\n",
       "Name: rating, dtype: float64"
      ]
     },
     "metadata": {},
     "output_type": "display_data"
    },
    {
     "name": "stdout",
     "output_type": "stream",
     "text": [
      "**************************************************\n"
     ]
    }
   ],
   "source": [
    "print_statistics(data)"
   ]
  },
  {
   "cell_type": "markdown",
   "metadata": {
    "pycharm": {
     "name": "#%% md\n"
    }
   },
   "source": [
    "### Выводы:\n",
    "* Всего в датасете присутствует 2.565.349 оценки\n",
    "* 71982 уникальных игр и 1.540.618 уникальных пользоватля\n",
    "* В данных отсутствуют пропуски\n",
    "* В среднем на одного пользователя приходится 1.7 оценки, а на одну игру чуть больше 35 оценок. Датасет достаточно сильно разряжен. Для ускорения работы сократим датасет на ~70% и отфильтруем юзеров, которые поставили меньше 2 оценок и товары, которые получили меньше 19 оценок"
   ]
  },
  {
   "cell_type": "code",
   "execution_count": 10,
   "metadata": {
    "pycharm": {
     "name": "#%%\n"
    }
   },
   "outputs": [],
   "source": [
    "data_filtered = data[data.groupby('item')['item'].transform('size') > 19]\n",
    "data_filtered = data_filtered[data_filtered.groupby('user')['user'].transform('size') > 2]"
   ]
  },
  {
   "cell_type": "code",
   "execution_count": 11,
   "metadata": {
    "pycharm": {
     "name": "#%%\n"
    },
    "scrolled": true
   },
   "outputs": [
    {
     "data": {
      "text/plain": [
       "count    833969.000000\n",
       "mean          4.203848\n",
       "std           1.223682\n",
       "min           1.000000\n",
       "25%           4.000000\n",
       "50%           5.000000\n",
       "75%           5.000000\n",
       "max           5.000000\n",
       "Name: rating, dtype: float64"
      ]
     },
     "metadata": {},
     "output_type": "display_data"
    },
    {
     "name": "stdout",
     "output_type": "stream",
     "text": [
      "**************************************************\n",
      "Размер: (833969, 4)\n",
      "**************************************************\n",
      "Пропущенные значения:\n"
     ]
    },
    {
     "data": {
      "text/plain": [
       "item      0\n",
       "user      0\n",
       "rating    0\n",
       "date      0\n",
       "dtype: int64"
      ]
     },
     "metadata": {},
     "output_type": "display_data"
    },
    {
     "name": "stdout",
     "output_type": "stream",
     "text": [
      "**************************************************\n",
      "Количество уникальных товаров: 17849 (2.14%)\n",
      "Количество уникальных юзеров: 159651 (19.14%)\n",
      "**************************************************\n"
     ]
    },
    {
     "data": {
      "image/png": "[encoded data removed]",
      "text/plain": [
       "<Figure size 432x288 with 1 Axes>"
      ]
     },
     "metadata": {
      "needs_background": "light"
     },
     "output_type": "display_data"
    },
    {
     "name": "stdout",
     "output_type": "stream",
     "text": [
      "**************************************************\n",
      "Сколько оценок ставят пользователи:\n"
     ]
    },
    {
     "data": {
      "text/plain": [
       "count    159651.000000\n",
       "mean          5.223700\n",
       "std           6.421379\n",
       "min           3.000000\n",
       "25%           3.000000\n",
       "50%           4.000000\n",
       "75%           5.000000\n",
       "max         759.000000\n",
       "Name: rating, dtype: float64"
      ]
     },
     "metadata": {},
     "output_type": "display_data"
    },
    {
     "name": "stdout",
     "output_type": "stream",
     "text": [
      "**************************************************\n",
      "Сколько оценок получает каждая игра:\n"
     ]
    },
    {
     "data": {
      "text/plain": [
       "count    17849.000000\n",
       "mean        46.723570\n",
       "std         95.816846\n",
       "min          1.000000\n",
       "25%         11.000000\n",
       "50%         20.000000\n",
       "75%         44.000000\n",
       "max       3157.000000\n",
       "Name: rating, dtype: float64"
      ]
     },
     "metadata": {},
     "output_type": "display_data"
    },
    {
     "name": "stdout",
     "output_type": "stream",
     "text": [
      "**************************************************\n"
     ]
    }
   ],
   "source": [
    "print_statistics(data_filtered)"
   ]
  },
  {
   "cell_type": "markdown",
   "metadata": {},
   "source": [
    "* После фильтрации в датасете осталось 833.969 строк, что сотсавляет ~32% от первональчного значения.\n",
    "* Доля уникальных юзеров и товаров по отношению к величине всего набора данных снизилась, что говорит о меньшей разреженности\n",
    "* В фильтрованном наборе данных, каждый пользователь в среднем ставит около 5 оценок, а каждая игра получает ~46 оценок\n",
    "* Есть небольшие изменения в распределении оценок, но фундаментальных различий нет"
   ]
  },
  {
   "cell_type": "markdown",
   "metadata": {
    "pycharm": {
     "name": "#%% md\n"
    }
   },
   "source": [
    "## Train-test split\n",
    "\n",
    "В данных присутствует время, поэтому логично при разделении данных на тренировочный и тестовый наборы учесть это: разделим данные таким образом, чтобы от каждого пользователя отложить в тестовый набор 20%  наиболее поздних по времени данных. При этом, если у пользователя меньше оценок для деления датасета в соотношении 80-20 (например, 3), то в тренировочный набор попадут 2 записи, а в тестовый 1. Такой подход не гарантирует, что финальное разбиение будет в точности соответствовать соотношению 80-20, скорее всего соотношение будет ближе к 75-25."
   ]
  },
  {
   "cell_type": "code",
   "execution_count": 12,
   "metadata": {},
   "outputs": [],
   "source": [
    "def train_test_split(\n",
    "    data, ratio=0.2, user_col='user', item_col='item',\n",
    "    rating_col='rating', time_col='date'\n",
    "):\n",
    "    def split_one_user(x, ratio=0.2):\n",
    "        split_idx = int(x.shape[0] * (1 - ratio))\n",
    "        train_ids = x.iloc[:split_idx, :].index\n",
    "        x['train'] = np.isin(x.index, train_ids)\n",
    "        return x\n",
    "    \n",
    "    data_copy = copy.copy(data)\n",
    "    data_copy['train'] = 0\n",
    "    data_copy = data_copy.sort_values(by=[time_col])\n",
    "    grouped = data_copy.groupby(user_col)\n",
    "    data_copy = grouped.progress_apply(split_one_user, ratio=ratio)\n",
    "    \n",
    "    x_train = data_copy[[user_col, item_col, rating_col]][data_copy['train']]\n",
    "    x_test = data_copy[[user_col, item_col, rating_col]][~data_copy['train']]\n",
    "    \n",
    "    return x_train, x_test"
   ]
  },
  {
   "cell_type": "code",
   "execution_count": 13,
   "metadata": {},
   "outputs": [
    {
     "data": {
      "application/vnd.jupyter.widget-view+json": {
       "model_id": "28bb47a38c0e4466b5749535d1956bb8",
       "version_major": 2,
       "version_minor": 0
      },
      "text/plain": [
       "  0%|          | 0/159651 [00:00<?, ?it/s]"
      ]
     },
     "metadata": {},
     "output_type": "display_data"
    }
   ],
   "source": [
    "x_train, x_test = train_test_split(data_filtered)"
   ]
  },
  {
   "cell_type": "markdown",
   "metadata": {},
   "source": [
    "## Baseline model"
   ]
  },
  {
   "cell_type": "markdown",
   "metadata": {},
   "source": [
    "В качестве бейзлайна возьмем стандартную user-based модель библиотеки surprise, обученную на всем тренировочном датасете"
   ]
  },
  {
   "cell_type": "code",
   "execution_count": 14,
   "metadata": {},
   "outputs": [],
   "source": [
    "from surprise import Dataset, Reader\n",
    "from surprise import BaselineOnly\n",
    "from surprise import accuracy\n",
    "from surprise.model_selection import KFold\n",
    "\n",
    "reader = Reader(rating_scale=(1, 5))\n",
    "train_data = Dataset.load_from_df(x_train, reader)\n",
    "test_data = Dataset.load_from_df(x_test, reader)"
   ]
  },
  {
   "cell_type": "code",
   "execution_count": 15,
   "metadata": {},
   "outputs": [
    {
     "name": "stdout",
     "output_type": "stream",
     "text": [
      "Estimating biases using als...\n",
      "RMSE: 1.1353\n"
     ]
    },
    {
     "data": {
      "text/plain": [
       "1.1353040534724266"
      ]
     },
     "execution_count": 15,
     "metadata": {},
     "output_type": "execute_result"
    }
   ],
   "source": [
    "trainset = train_data.build_full_trainset()\n",
    "algo = BaselineOnly()\n",
    "algo.fit(trainset)\n",
    "predictions = algo.test(test_data.construct_testset(test_data.raw_ratings))\n",
    "accuracy.rmse(predictions, verbose=True)"
   ]
  },
  {
   "cell_type": "markdown",
   "metadata": {},
   "source": [
    "## Cross-validation scheme"
   ]
  },
  {
   "cell_type": "markdown",
   "metadata": {},
   "source": [
    "Проверим 3 схемы валидации:\n",
    "1. Первая будет сделана путем случайного разбиения на 3 фолда внутренними функциями библиотеки surprise\n",
    "2. Используем TimeSeriesSplit (за основу возьмем реализацию sklearn, но адаптируем для датасетов surprise): это похоже на то, что сделано в функции train_test_split выше, но разбиение не будет учитывать каждого юзера в отдельности.\n",
    "3. LeaveOneOut: от каждого юзера в testset будет попадать ровно 1 пример"
   ]
  },
  {
   "cell_type": "code",
   "execution_count": 16,
   "metadata": {},
   "outputs": [],
   "source": [
    "class TimeSeriesSplit():\n",
    "    \"\"\"Time Series cross-validator\n",
    "    Provides train/test indices to split time series data samples\n",
    "    that are observed at fixed time intervals, in train/test sets.\n",
    "    In each split, test indices must be higher than before, and thus shuffling\n",
    "    in cross validator is inappropriate.\n",
    "    This cross-validation object is a variation of :class:`KFold`.\n",
    "    In the kth split, it returns first k folds as train set and the\n",
    "    (k+1)th fold as test set.\n",
    "    Note that unlike standard cross-validation methods, successive\n",
    "    training sets are supersets of those that come before them.\n",
    "    Read more in the :ref:`User Guide <time_series_split>`.\n",
    "    .. versionadded:: 0.18\n",
    "    Parameters\n",
    "    ----------\n",
    "    n_splits : int, default=5\n",
    "        Number of splits. Must be at least 2.\n",
    "        .. versionchanged:: 0.22\n",
    "            ``n_splits`` default value changed from 3 to 5.\n",
    "    max_train_size : int, default=None\n",
    "        Maximum size for a single training set.\n",
    "    test_size : int, default=None\n",
    "        Used to limit the size of the test set. Defaults to\n",
    "        ``n_samples // (n_splits + 1)``, which is the maximum allowed value\n",
    "        with ``gap=0``.\n",
    "        .. versionadded:: 0.24\n",
    "    gap : int, default=0\n",
    "        Number of samples to exclude from the end of each train set before\n",
    "        the test set.\n",
    "        .. versionadded:: 0.24\n",
    "    \"\"\"\n",
    "    \n",
    "    def __init__(self,\n",
    "                 n_splits=5,\n",
    "                 shuffle=False,\n",
    "                 random_state=None):\n",
    "        \n",
    "        self.n_splits = n_splits\n",
    "        self.shuffle = shuffle\n",
    "        self.random_state = random_state\n",
    "\n",
    "    def split(self, data):\n",
    "        \"\"\"Generate indices to split data into training and test set.\n",
    "        Parameters\n",
    "        ----------\n",
    "        data : array-like of shape (n_samples, n_features)\n",
    "            Training data, where n_samples is the number of samples\n",
    "            and n_features is the number of features.\n",
    "        Yields\n",
    "        ------\n",
    "        train : surprise\n",
    "            The training set indices for that split.\n",
    "        test : ndarray\n",
    "            The testing set indices for that split.\n",
    "        \"\"\"\n",
    "        \n",
    "        n_samples = len(data.raw_ratings)\n",
    "        n_splits = self.n_splits\n",
    "        n_folds = n_splits + 1\n",
    "        \n",
    "        test_size = n_samples // n_folds\n",
    "\n",
    "        # Make sure we have enough samples for the given split parameters\n",
    "        if n_folds > n_samples:\n",
    "            raise ValueError(\n",
    "                (f\"Cannot have number of folds={n_folds} greater\"\n",
    "                 f\" than the number of samples={n_samples}.\"))\n",
    "\n",
    "        indices = np.arange(len(data.raw_ratings))\n",
    "        test_starts = range(n_samples - n_splits * test_size,\n",
    "                            n_samples, test_size)\n",
    "\n",
    "        for test_start in test_starts:\n",
    "            train_end = test_start\n",
    "            raw_trainset = [data.raw_ratings[i] for i in indices[:train_end]]\n",
    "            raw_testset = [data.raw_ratings[i] for i in indices[test_start:test_start + test_size]]\n",
    "            \n",
    "            trainset = data.construct_trainset(raw_trainset)\n",
    "            testset = data.construct_testset(raw_testset)\n",
    "\n",
    "            yield trainset, testset"
   ]
  },
  {
   "cell_type": "code",
   "execution_count": 17,
   "metadata": {},
   "outputs": [],
   "source": [
    "from surprise.model_selection import LeaveOneOut\n",
    "\n",
    "def make_cross_validation(data, algo, politic, n_splits=3, **algo_kwargs):\n",
    "    if politic == \"kfold\":\n",
    "        cv = KFold(n_splits=n_splits)\n",
    "    elif politic == \"loo\":\n",
    "        cv = LeaveOneOut(n_splits=n_splits)\n",
    "    elif politic == \"tss\":\n",
    "        cv = TimeSeriesSplit(n_splits=n_splits)\n",
    "    \n",
    "    algo = algo(**algo_kwargs)\n",
    "    for trainset, testset in cv.split(data):\n",
    "        predictions = algo.fit(trainset).test(testset)\n",
    "        accuracy.rmse(predictions, verbose=True)"
   ]
  },
  {
   "cell_type": "code",
   "execution_count": 18,
   "metadata": {},
   "outputs": [
    {
     "name": "stdout",
     "output_type": "stream",
     "text": [
      "Estimating biases using als...\n",
      "RMSE: 1.1381\n",
      "Estimating biases using als...\n",
      "RMSE: 1.1365\n",
      "Estimating biases using als...\n",
      "RMSE: 1.1367\n"
     ]
    }
   ],
   "source": [
    "make_cross_validation(train_data, BaselineOnly, \"loo\")"
   ]
  },
  {
   "cell_type": "code",
   "execution_count": 19,
   "metadata": {},
   "outputs": [
    {
     "name": "stdout",
     "output_type": "stream",
     "text": [
      "Estimating biases using als...\n",
      "RMSE: 1.1073\n",
      "Estimating biases using als...\n",
      "RMSE: 1.1075\n",
      "Estimating biases using als...\n",
      "RMSE: 1.1041\n"
     ]
    }
   ],
   "source": [
    "make_cross_validation(train_data, BaselineOnly, \"kfold\")"
   ]
  },
  {
   "cell_type": "code",
   "execution_count": 20,
   "metadata": {},
   "outputs": [
    {
     "name": "stdout",
     "output_type": "stream",
     "text": [
      "Estimating biases using als...\n",
      "RMSE: 1.2349\n",
      "Estimating biases using als...\n",
      "RMSE: 1.1519\n",
      "Estimating biases using als...\n",
      "RMSE: 1.1475\n"
     ]
    }
   ],
   "source": [
    "make_cross_validation(train_data, BaselineOnly, \"tss\")"
   ]
  },
  {
   "cell_type": "markdown",
   "metadata": {},
   "source": [
    "### Выводы\n",
    "* KFold имеет небольшой разброс, но занижает оценку ошибки по сравнением с бейзлайн моделью обученной на всем сете\n",
    "* Схема основанная на времени имеет наибольший разброс, что не позволяет эффективно ее использовать. Скорее всего это связано с меньшим количеством данных для обучения для первых двух фолдов\n",
    "* LeaveOneOut дает хорошее приближение метрики, полученной на отложенном датасете и имеет небольшой разброс. Для дальнейших исследований будем использовать именно эту схему"
   ]
  },
  {
   "cell_type": "markdown",
   "metadata": {
    "pycharm": {
     "name": "#%%\n"
    }
   },
   "source": [
    "## Сравнение различных моделей"
   ]
  },
  {
   "cell_type": "markdown",
   "metadata": {},
   "source": [
    "Для сравнения различных алгоритмов возьмем следующие:\n",
    "\n",
    "* item_based KNN с метриками схожести cosine, msd и pearson (user_based в данном варианте датасета недоступна так как нет возможности хранить огромную матрицу 160k x 160k\n",
    "* SVD\n",
    "* CoClustering\n",
    "* SlopeOne"
   ]
  },
  {
   "cell_type": "code",
   "execution_count": 26,
   "metadata": {},
   "outputs": [],
   "source": [
    "from surprise import CoClustering, KNNBasic, SVD, NMF, SlopeOne"
   ]
  },
  {
   "cell_type": "code",
   "execution_count": 27,
   "metadata": {},
   "outputs": [
    {
     "name": "stderr",
     "output_type": "stream",
     "text": [
      "<ipython-input-17-d151337c5277>:13: DeprecationWarning: `np.int` is a deprecated alias for the builtin `int`. To silence this warning, use `int` by itself. Doing this will not modify any behavior and is safe. When replacing `np.int`, you may wish to use e.g. `np.int64` or `np.int32` to specify the precision. If you wish to review your current use, check the release note link for additional information.\n",
      "Deprecated in NumPy 1.20; for more details and guidance: https://numpy.org/devdocs/release/1.20.0-notes.html#deprecations\n",
      "  predictions = algo.fit(trainset).test(testset)\n"
     ]
    },
    {
     "name": "stdout",
     "output_type": "stream",
     "text": [
      "RMSE: 1.2475\n",
      "RMSE: 1.2454\n",
      "RMSE: 1.2424\n"
     ]
    }
   ],
   "source": [
    "make_cross_validation(train_data, CoClustering, \"loo\")"
   ]
  },
  {
   "cell_type": "code",
   "execution_count": 23,
   "metadata": {},
   "outputs": [
    {
     "name": "stdout",
     "output_type": "stream",
     "text": [
      "Computing the msd similarity matrix...\n",
      "Done computing similarity matrix.\n",
      "RMSE: 1.2118\n",
      "Computing the msd similarity matrix...\n",
      "Done computing similarity matrix.\n",
      "RMSE: 1.2095\n",
      "Computing the msd similarity matrix...\n",
      "Done computing similarity matrix.\n",
      "RMSE: 1.2117\n"
     ]
    }
   ],
   "source": [
    "make_cross_validation(train_data, KNNBasic, \"loo\", \n",
    "                      sim_options={'user_based': False, 'name': 'msd'})"
   ]
  },
  {
   "cell_type": "code",
   "execution_count": 24,
   "metadata": {},
   "outputs": [
    {
     "name": "stdout",
     "output_type": "stream",
     "text": [
      "Computing the cosine similarity matrix...\n",
      "Done computing similarity matrix.\n",
      "RMSE: 1.2226\n",
      "Computing the cosine similarity matrix...\n",
      "Done computing similarity matrix.\n",
      "RMSE: 1.2222\n",
      "Computing the cosine similarity matrix...\n",
      "Done computing similarity matrix.\n",
      "RMSE: 1.2234\n"
     ]
    }
   ],
   "source": [
    "make_cross_validation(train_data, KNNBasic, \"loo\", \n",
    "                      sim_options={'user_based': False, 'name': 'cosine'})"
   ]
  },
  {
   "cell_type": "code",
   "execution_count": 25,
   "metadata": {},
   "outputs": [
    {
     "name": "stdout",
     "output_type": "stream",
     "text": [
      "Computing the pearson similarity matrix...\n",
      "Done computing similarity matrix.\n",
      "RMSE: 1.1733\n",
      "Computing the pearson similarity matrix...\n",
      "Done computing similarity matrix.\n",
      "RMSE: 1.1738\n",
      "Computing the pearson similarity matrix...\n",
      "Done computing similarity matrix.\n",
      "RMSE: 1.1742\n"
     ]
    }
   ],
   "source": [
    "make_cross_validation(train_data, KNNBasic, \"loo\", \n",
    "                      sim_options={'user_based': False, 'name': 'pearson'})"
   ]
  },
  {
   "cell_type": "code",
   "execution_count": 29,
   "metadata": {},
   "outputs": [
    {
     "name": "stdout",
     "output_type": "stream",
     "text": [
      "RMSE: 1.1038\n",
      "RMSE: 1.1062\n",
      "RMSE: 1.1041\n"
     ]
    }
   ],
   "source": [
    "make_cross_validation(train_data, SVD, \"loo\")"
   ]
  },
  {
   "cell_type": "code",
   "execution_count": 30,
   "metadata": {},
   "outputs": [
    {
     "name": "stdout",
     "output_type": "stream",
     "text": [
      "RMSE: 1.3617\n",
      "RMSE: 1.3591\n",
      "RMSE: 1.3647\n"
     ]
    }
   ],
   "source": [
    "make_cross_validation(train_data, NMF, \"loo\")"
   ]
  },
  {
   "cell_type": "code",
   "execution_count": 31,
   "metadata": {},
   "outputs": [
    {
     "name": "stderr",
     "output_type": "stream",
     "text": [
      "<ipython-input-17-d151337c5277>:13: DeprecationWarning: `np.int` is a deprecated alias for the builtin `int`. To silence this warning, use `int` by itself. Doing this will not modify any behavior and is safe. When replacing `np.int`, you may wish to use e.g. `np.int64` or `np.int32` to specify the precision. If you wish to review your current use, check the release note link for additional information.\n",
      "Deprecated in NumPy 1.20; for more details and guidance: https://numpy.org/devdocs/release/1.20.0-notes.html#deprecations\n",
      "  predictions = algo.fit(trainset).test(testset)\n"
     ]
    },
    {
     "name": "stdout",
     "output_type": "stream",
     "text": [
      "RMSE: 1.3156\n",
      "RMSE: 1.3105\n",
      "RMSE: 1.3134\n"
     ]
    }
   ],
   "source": [
    "make_cross_validation(train_data, SlopeOne, \"loo\")"
   ]
  },
  {
   "cell_type": "markdown",
   "metadata": {},
   "source": [
    "Из всех алгоритмов лучше всех себя показал SVD, единственный получивший рзультат выше бейздайн модели. Его выберем для fine-tuning"
   ]
  },
  {
   "cell_type": "markdown",
   "metadata": {},
   "source": [
    "## Fine-tuning"
   ]
  },
  {
   "cell_type": "code",
   "execution_count": 36,
   "metadata": {},
   "outputs": [
    {
     "name": "stdout",
     "output_type": "stream",
     "text": [
      "1.0778839543630516\n",
      "{'n_factors': 50, 'n_epochs': 30, 'lr_all': 0.01, 'reg_all': 0.1}\n"
     ]
    }
   ],
   "source": [
    "from surprise.model_selection import RandomizedSearchCV\n",
    "\n",
    "param_grid = {\n",
    "    'n_factors': [5, 10, 50, 100],\n",
    "    'n_epochs': [10, 20, 30], \n",
    "    'lr_all': [0.002, 0.005, 0.01],\n",
    "    'reg_all': [0.02, 0.05, 0.1]}\n",
    "\n",
    "cv = LeaveOneOut(n_splits=3)\n",
    "gs = RandomizedSearchCV(SVD, param_grid, n_iter=20, cv=cv, n_jobs=-1)\n",
    "\n",
    "gs.fit(train_data)\n",
    "\n",
    "# best RMSE score\n",
    "print(gs.best_score['rmse'])\n",
    "\n",
    "# combination of parameters that gave the best RMSE score\n",
    "print(gs.best_params['rmse'])"
   ]
  },
  {
   "cell_type": "markdown",
   "metadata": {},
   "source": [
    "## Final Prediction"
   ]
  },
  {
   "cell_type": "code",
   "execution_count": 38,
   "metadata": {},
   "outputs": [
    {
     "name": "stdout",
     "output_type": "stream",
     "text": [
      "RMSE: 1.0857\n"
     ]
    },
    {
     "data": {
      "text/plain": [
       "1.0857064823866545"
      ]
     },
     "execution_count": 38,
     "metadata": {},
     "output_type": "execute_result"
    }
   ],
   "source": [
    "trainset = train_data.build_full_trainset()\n",
    "algo = SVD(**gs.best_params['rmse'])\n",
    "algo.fit(trainset)\n",
    "predictions = algo.test(test_data.construct_testset(test_data.raw_ratings))\n",
    "accuracy.rmse(predictions, verbose=True)"
   ]
  },
  {
   "cell_type": "markdown",
   "metadata": {},
   "source": [
    "Fine-tuning дал небольшую прибабку к скору модели.\n",
    "\n",
    "Таким образом была построена рекомендательная система для датасета Video_Games, имеющая ошибку примерно +-1 балл. Учитывая, что используется 5-бальная система, ошибка достаточно большая. Скорее всего точность можно увеличить, получив больше данных. Большинство пользователей ставят всего 5 оценок на почти 18000 игр, поэтому найти среди них \"похожих\" друг на друга крайне трудно."
   ]
  }
 ],
 "metadata": {
  "kernelspec": {
   "display_name": "Python 3",
   "language": "python",
   "name": "python3"
  },
  "language_info": {
   "codemirror_mode": {
    "name": "ipython",
    "version": 3
   },
   "file_extension": ".py",
   "mimetype": "text/x-python",
   "name": "python",
   "nbconvert_exporter": "python",
   "pygments_lexer": "ipython3",
   "version": "3.9.5"
  }
 },
 "nbformat": 4,
 "nbformat_minor": 4
}
